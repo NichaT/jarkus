{
 "cells": [
  {
   "cell_type": "markdown",
   "metadata": {},
   "source": [
    "# JARKUS Analysis - 0. Installation"
   ]
  },
  {
   "cell_type": "markdown",
   "metadata": {},
   "source": [
    "1. Install Anaconda\n",
    "2. Create a new environment in the Anaconda Prompt with python 3.6 (\"conda create -n jarkus python=3.6\")\n",
    "3. Activate the environment (\"conda activate jarkus\")\n",
    "3. Install the following packages (\"conda install *package*\"):\n",
    "    - scipy\n",
    "    - numpy\n",
    "    - matplotlib\n",
    "4. Install jupyter notebooks within the environment (\"conda install jupyter notebook\")\n",
    "5. Install Jarkus Toolbox from christa-tudelft fork"
   ]
  },
  {
   "cell_type": "markdown",
   "metadata": {},
   "source": [
    "Go to the next notebook"
   ]
  },
  {
   "cell_type": "code",
   "execution_count": null,
   "metadata": {},
   "outputs": [],
   "source": []
  }
 ],
 "metadata": {
  "kernelspec": {
   "display_name": "Python 3",
   "language": "python",
   "name": "python3"
  },
  "language_info": {
   "codemirror_mode": {
    "name": "ipython",
    "version": 3
   },
   "file_extension": ".py",
   "mimetype": "text/x-python",
   "name": "python",
   "nbconvert_exporter": "python",
   "pygments_lexer": "ipython3",
   "version": "3.7.3"
  }
 },
 "nbformat": 4,
 "nbformat_minor": 2
}
